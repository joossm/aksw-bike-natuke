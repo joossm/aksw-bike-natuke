{
 "cells": [
  {
   "cell_type": "code",
   "execution_count": 1,
   "metadata": {},
   "outputs": [],
   "source": [
    "import pandas as pd\n",
    "\n",
    "path = './data/'"
   ]
  },
  {
   "cell_type": "code",
   "execution_count": 2,
   "metadata": {},
   "outputs": [
    {
     "data": {
      "text/html": [
       "<div>\n",
       "<style scoped>\n",
       "    .dataframe tbody tr th:only-of-type {\n",
       "        vertical-align: middle;\n",
       "    }\n",
       "\n",
       "    .dataframe tbody tr th {\n",
       "        vertical-align: top;\n",
       "    }\n",
       "\n",
       "    .dataframe thead th {\n",
       "        text-align: right;\n",
       "    }\n",
       "</style>\n",
       "<table border=\"1\" class=\"dataframe\">\n",
       "  <thead>\n",
       "    <tr style=\"text-align: right;\">\n",
       "      <th></th>\n",
       "      <th>doi</th>\n",
       "      <th>file_name</th>\n",
       "      <th>text</th>\n",
       "      <th>phrases</th>\n",
       "    </tr>\n",
       "  </thead>\n",
       "  <tbody>\n",
       "    <tr>\n",
       "      <th>0</th>\n",
       "      <td>10.1016/j.biortech.2010.01.041</td>\n",
       "      <td>10.1016@j.biortech.2010.01.041.pdf</td>\n",
       "      <td>Geranylation of benzoic acid derivatives by en...</td>\n",
       "      <td>[Geranylation of benzoic acid derivatives by e...</td>\n",
       "    </tr>\n",
       "    <tr>\n",
       "      <th>1</th>\n",
       "      <td>10.1590/S0100-40422010000200017</td>\n",
       "      <td>10.1590@S0100-40422010000200017.pdf</td>\n",
       "      <td>Quim. Nova, Vol. 33, No. 2, 321-323, 2010Artig...</td>\n",
       "      <td>[Quim. Nova, Vol. 33, No. 2, 321-323, 2010Arti...</td>\n",
       "    </tr>\n",
       "    <tr>\n",
       "      <th>2</th>\n",
       "      <td>10.1590/S0103-50532006000500017</td>\n",
       "      <td>10.1590@S0103-50532006000500017.pdf</td>\n",
       "      <td>J. Braz. Chem. Soc., Vol. 17, No. 5, 929-934, ...</td>\n",
       "      <td>[J. Braz. Chem. Soc., Vol. 17, No. 5, 929-934,...</td>\n",
       "    </tr>\n",
       "    <tr>\n",
       "      <th>3</th>\n",
       "      <td>10.1002/pca.818</td>\n",
       "      <td>10.1002@pca.818.pdf</td>\n",
       "      <td>FLAVONOID GLYCOSIDES AND STYRYLPYRONES FROM CR...</td>\n",
       "      <td>[FLAVONOID GLYCOSIDES AND STYRYLPYRONES FROM C...</td>\n",
       "    </tr>\n",
       "    <tr>\n",
       "      <th>4</th>\n",
       "      <td>10.1002/ps.478</td>\n",
       "      <td>10.1002@ps.478.pdf</td>\n",
       "      <td>Biological activity of astilbin from  against ...</td>\n",
       "      <td>[Biological activity of astilbin from  against...</td>\n",
       "    </tr>\n",
       "    <tr>\n",
       "      <th>...</th>\n",
       "      <td>...</td>\n",
       "      <td>...</td>\n",
       "      <td>...</td>\n",
       "      <td>...</td>\n",
       "    </tr>\n",
       "    <tr>\n",
       "      <th>385</th>\n",
       "      <td>10.1016/S0031-9422(00)94671-5</td>\n",
       "      <td>10.1016@S0031-9422(00)94671-5.pdf</td>\n",
       "      <td>Short Reports 1671 Dichrographe Mark III, R. J...</td>\n",
       "      <td>[Short Reports 1671 Dichrographe Mark III, R. ...</td>\n",
       "    </tr>\n",
       "    <tr>\n",
       "      <th>386</th>\n",
       "      <td>10.1016/S0031-9422(00)80444-6</td>\n",
       "      <td>10.1016@S0031-9422(00)80444-6.pdf</td>\n",
       "      <td>Phytochemrstry, Vol. 23, No 6, pp. 1X33-1296, ...</td>\n",
       "      <td>[Phytochemrstry, Vol. 23, No 6, pp. 1X33-1296,...</td>\n",
       "    </tr>\n",
       "    <tr>\n",
       "      <th>387</th>\n",
       "      <td>10.1021/np50032a021</td>\n",
       "      <td>10.1021@np50032a021.pdf</td>\n",
       "      <td>Journal of Natural Products Vol. 47. No. 2. pp...</td>\n",
       "      <td>[Journal of Natural Products Vol. 47. No. 2. p...</td>\n",
       "    </tr>\n",
       "    <tr>\n",
       "      <th>388</th>\n",
       "      <td>10.1016/S0031-9422(00)83467-6</td>\n",
       "      <td>10.1016@S0031-9422(00)83467-6.pdf</td>\n",
       "      <td>Phytockmistry, Vol. 23, No. 8, pp. 1677-1679, ...</td>\n",
       "      <td>[Phytockmistry, Vol. 23, No. 8, pp. 1677-1679,...</td>\n",
       "    </tr>\n",
       "    <tr>\n",
       "      <th>389</th>\n",
       "      <td>10.1016/0031-9422(80)83208-0</td>\n",
       "      <td>10.1016@0031-9422(80)83208-0.pdf</td>\n",
       "      <td>Phytochemistry, 1980, Vol. 19, pp. 474-476. © ...</td>\n",
       "      <td>[Phytochemistry, 1980, Vol. 19, pp. 474-476. ©...</td>\n",
       "    </tr>\n",
       "  </tbody>\n",
       "</table>\n",
       "<p>390 rows × 4 columns</p>\n",
       "</div>"
      ],
      "text/plain": [
       "                                 doi                            file_name  \\\n",
       "0     10.1016/j.biortech.2010.01.041   10.1016@j.biortech.2010.01.041.pdf   \n",
       "1    10.1590/S0100-40422010000200017  10.1590@S0100-40422010000200017.pdf   \n",
       "2    10.1590/S0103-50532006000500017  10.1590@S0103-50532006000500017.pdf   \n",
       "3                    10.1002/pca.818                  10.1002@pca.818.pdf   \n",
       "4                     10.1002/ps.478                   10.1002@ps.478.pdf   \n",
       "..                               ...                                  ...   \n",
       "385    10.1016/S0031-9422(00)94671-5    10.1016@S0031-9422(00)94671-5.pdf   \n",
       "386    10.1016/S0031-9422(00)80444-6    10.1016@S0031-9422(00)80444-6.pdf   \n",
       "387              10.1021/np50032a021              10.1021@np50032a021.pdf   \n",
       "388    10.1016/S0031-9422(00)83467-6    10.1016@S0031-9422(00)83467-6.pdf   \n",
       "389     10.1016/0031-9422(80)83208-0     10.1016@0031-9422(80)83208-0.pdf   \n",
       "\n",
       "                                                  text  \\\n",
       "0    Geranylation of benzoic acid derivatives by en...   \n",
       "1    Quim. Nova, Vol. 33, No. 2, 321-323, 2010Artig...   \n",
       "2    J. Braz. Chem. Soc., Vol. 17, No. 5, 929-934, ...   \n",
       "3    FLAVONOID GLYCOSIDES AND STYRYLPYRONES FROM CR...   \n",
       "4    Biological activity of astilbin from  against ...   \n",
       "..                                                 ...   \n",
       "385  Short Reports 1671 Dichrographe Mark III, R. J...   \n",
       "386  Phytochemrstry, Vol. 23, No 6, pp. 1X33-1296, ...   \n",
       "387  Journal of Natural Products Vol. 47. No. 2. pp...   \n",
       "388  Phytockmistry, Vol. 23, No. 8, pp. 1677-1679, ...   \n",
       "389  Phytochemistry, 1980, Vol. 19, pp. 474-476. © ...   \n",
       "\n",
       "                                               phrases  \n",
       "0    [Geranylation of benzoic acid derivatives by e...  \n",
       "1    [Quim. Nova, Vol. 33, No. 2, 321-323, 2010Arti...  \n",
       "2    [J. Braz. Chem. Soc., Vol. 17, No. 5, 929-934,...  \n",
       "3    [FLAVONOID GLYCOSIDES AND STYRYLPYRONES FROM C...  \n",
       "4    [Biological activity of astilbin from  against...  \n",
       "..                                                 ...  \n",
       "385  [Short Reports 1671 Dichrographe Mark III, R. ...  \n",
       "386  [Phytochemrstry, Vol. 23, No 6, pp. 1X33-1296,...  \n",
       "387  [Journal of Natural Products Vol. 47. No. 2. p...  \n",
       "388  [Phytockmistry, Vol. 23, No. 8, pp. 1677-1679,...  \n",
       "389  [Phytochemistry, 1980, Vol. 19, pp. 474-476. ©...  \n",
       "\n",
       "[390 rows x 4 columns]"
      ]
     },
     "execution_count": 2,
     "metadata": {},
     "output_type": "execute_result"
    }
   ],
   "source": [
    "df = pd.read_parquet(\"{}phrases-output-final-phrases.parquet\".format(path))\n",
    "df"
   ]
  },
  {
   "cell_type": "code",
   "execution_count": 3,
   "metadata": {},
   "outputs": [
    {
     "data": {
      "application/json": {
       "ascii": false,
       "bar_format": null,
       "colour": null,
       "elapsed": 0.003998279571533203,
       "initial": 0,
       "n": 0,
       "ncols": null,
       "nrows": 84,
       "postfix": null,
       "prefix": "Downloading",
       "rate": null,
       "total": 968,
       "unit": "B",
       "unit_divisor": 1000,
       "unit_scale": true
      },
      "application/vnd.jupyter.widget-view+json": {
       "model_id": "7c97c9d0d9884a5e8a811b1f58a8e438",
       "version_major": 2,
       "version_minor": 0
      },
      "text/plain": [
       "Downloading:   0%|          | 0.00/968 [00:00<?, ?B/s]"
      ]
     },
     "metadata": {},
     "output_type": "display_data"
    },
    {
     "data": {
      "application/json": {
       "ascii": false,
       "bar_format": null,
       "colour": null,
       "elapsed": 0.0029621124267578125,
       "initial": 0,
       "n": 0,
       "ncols": null,
       "nrows": 84,
       "postfix": null,
       "prefix": "Downloading",
       "rate": null,
       "total": 190,
       "unit": "B",
       "unit_divisor": 1000,
       "unit_scale": true
      },
      "application/vnd.jupyter.widget-view+json": {
       "model_id": "280df87b96ed49c583427cc8b62722e9",
       "version_major": 2,
       "version_minor": 0
      },
      "text/plain": [
       "Downloading:   0%|          | 0.00/190 [00:00<?, ?B/s]"
      ]
     },
     "metadata": {},
     "output_type": "display_data"
    },
    {
     "data": {
      "application/json": {
       "ascii": false,
       "bar_format": null,
       "colour": null,
       "elapsed": 0.00399017333984375,
       "initial": 0,
       "n": 0,
       "ncols": null,
       "nrows": 84,
       "postfix": null,
       "prefix": "Downloading",
       "rate": null,
       "total": 3786,
       "unit": "B",
       "unit_divisor": 1000,
       "unit_scale": true
      },
      "application/vnd.jupyter.widget-view+json": {
       "model_id": "eb90c0772d794d1dba90a3d0c68b7cfd",
       "version_major": 2,
       "version_minor": 0
      },
      "text/plain": [
       "Downloading:   0%|          | 0.00/3.79k [00:00<?, ?B/s]"
      ]
     },
     "metadata": {},
     "output_type": "display_data"
    },
    {
     "data": {
      "application/json": {
       "ascii": false,
       "bar_format": null,
       "colour": null,
       "elapsed": 0.003998279571533203,
       "initial": 0,
       "n": 0,
       "ncols": null,
       "nrows": 84,
       "postfix": null,
       "prefix": "Downloading",
       "rate": null,
       "total": 645,
       "unit": "B",
       "unit_divisor": 1000,
       "unit_scale": true
      },
      "application/vnd.jupyter.widget-view+json": {
       "model_id": "303d17eae5e54ac4980190791aec260a",
       "version_major": 2,
       "version_minor": 0
      },
      "text/plain": [
       "Downloading:   0%|          | 0.00/645 [00:00<?, ?B/s]"
      ]
     },
     "metadata": {},
     "output_type": "display_data"
    },
    {
     "data": {
      "application/json": {
       "ascii": false,
       "bar_format": null,
       "colour": null,
       "elapsed": 0.0030083656311035156,
       "initial": 0,
       "n": 0,
       "ncols": null,
       "nrows": 84,
       "postfix": null,
       "prefix": "Downloading",
       "rate": null,
       "total": 122,
       "unit": "B",
       "unit_divisor": 1000,
       "unit_scale": true
      },
      "application/vnd.jupyter.widget-view+json": {
       "model_id": "9293562f94e24849b73e9d62fa1e9c3d",
       "version_major": 2,
       "version_minor": 0
      },
      "text/plain": [
       "Downloading:   0%|          | 0.00/122 [00:00<?, ?B/s]"
      ]
     },
     "metadata": {},
     "output_type": "display_data"
    },
    {
     "data": {
      "application/json": {
       "ascii": false,
       "bar_format": null,
       "colour": null,
       "elapsed": 0.0040018558502197266,
       "initial": 0,
       "n": 0,
       "ncols": null,
       "nrows": 84,
       "postfix": null,
       "prefix": "Downloading",
       "rate": null,
       "total": 229,
       "unit": "B",
       "unit_divisor": 1000,
       "unit_scale": true
      },
      "application/vnd.jupyter.widget-view+json": {
       "model_id": "6bb2bf5a31534392b36248500fd3927b",
       "version_major": 2,
       "version_minor": 0
      },
      "text/plain": [
       "Downloading:   0%|          | 0.00/229 [00:00<?, ?B/s]"
      ]
     },
     "metadata": {},
     "output_type": "display_data"
    },
    {
     "data": {
      "application/json": {
       "ascii": false,
       "bar_format": null,
       "colour": null,
       "elapsed": 0.002990245819091797,
       "initial": 0,
       "n": 0,
       "ncols": null,
       "nrows": 84,
       "postfix": null,
       "prefix": "Downloading",
       "rate": null,
       "total": 470693617,
       "unit": "B",
       "unit_divisor": 1000,
       "unit_scale": true
      },
      "application/vnd.jupyter.widget-view+json": {
       "model_id": "a408a5cfd850475bab975bfe7d0043b2",
       "version_major": 2,
       "version_minor": 0
      },
      "text/plain": [
       "Downloading:   0%|          | 0.00/471M [00:00<?, ?B/s]"
      ]
     },
     "metadata": {},
     "output_type": "display_data"
    },
    {
     "data": {
      "application/json": {
       "ascii": false,
       "bar_format": null,
       "colour": null,
       "elapsed": 0.004000663757324219,
       "initial": 0,
       "n": 0,
       "ncols": null,
       "nrows": 84,
       "postfix": null,
       "prefix": "Downloading",
       "rate": null,
       "total": 53,
       "unit": "B",
       "unit_divisor": 1000,
       "unit_scale": true
      },
      "application/vnd.jupyter.widget-view+json": {
       "model_id": "f6c11c856ee04a4e99a1e70873a8e4c2",
       "version_major": 2,
       "version_minor": 0
      },
      "text/plain": [
       "Downloading:   0%|          | 0.00/53.0 [00:00<?, ?B/s]"
      ]
     },
     "metadata": {},
     "output_type": "display_data"
    },
    {
     "data": {
      "application/json": {
       "ascii": false,
       "bar_format": null,
       "colour": null,
       "elapsed": 0.0029578208923339844,
       "initial": 0,
       "n": 0,
       "ncols": null,
       "nrows": 84,
       "postfix": null,
       "prefix": "Downloading",
       "rate": null,
       "total": 5069051,
       "unit": "B",
       "unit_divisor": 1000,
       "unit_scale": true
      },
      "application/vnd.jupyter.widget-view+json": {
       "model_id": "9c262f522cbb430dac7bbccec99242ab",
       "version_major": 2,
       "version_minor": 0
      },
      "text/plain": [
       "Downloading:   0%|          | 0.00/5.07M [00:00<?, ?B/s]"
      ]
     },
     "metadata": {},
     "output_type": "display_data"
    },
    {
     "data": {
      "application/json": {
       "ascii": false,
       "bar_format": null,
       "colour": null,
       "elapsed": 0.002997159957885742,
       "initial": 0,
       "n": 0,
       "ncols": null,
       "nrows": 84,
       "postfix": null,
       "prefix": "Downloading",
       "rate": null,
       "total": 239,
       "unit": "B",
       "unit_divisor": 1000,
       "unit_scale": true
      },
      "application/vnd.jupyter.widget-view+json": {
       "model_id": "10c536949a7b4b0ca15686182ec3fb2c",
       "version_major": 2,
       "version_minor": 0
      },
      "text/plain": [
       "Downloading:   0%|          | 0.00/239 [00:00<?, ?B/s]"
      ]
     },
     "metadata": {},
     "output_type": "display_data"
    },
    {
     "data": {
      "application/json": {
       "ascii": false,
       "bar_format": null,
       "colour": null,
       "elapsed": 0.003979682922363281,
       "initial": 0,
       "n": 0,
       "ncols": null,
       "nrows": 84,
       "postfix": null,
       "prefix": "Downloading",
       "rate": null,
       "total": 9081518,
       "unit": "B",
       "unit_divisor": 1000,
       "unit_scale": true
      },
      "application/vnd.jupyter.widget-view+json": {
       "model_id": "5b2fae91716b4438a07fdbc18a135bcf",
       "version_major": 2,
       "version_minor": 0
      },
      "text/plain": [
       "Downloading:   0%|          | 0.00/9.08M [00:00<?, ?B/s]"
      ]
     },
     "metadata": {},
     "output_type": "display_data"
    },
    {
     "data": {
      "application/json": {
       "ascii": false,
       "bar_format": null,
       "colour": null,
       "elapsed": 0.0039997100830078125,
       "initial": 0,
       "n": 0,
       "ncols": null,
       "nrows": 84,
       "postfix": null,
       "prefix": "Downloading",
       "rate": null,
       "total": 480,
       "unit": "B",
       "unit_divisor": 1000,
       "unit_scale": true
      },
      "application/vnd.jupyter.widget-view+json": {
       "model_id": "f929790eccdc42d9b11fdbaa9db3267c",
       "version_major": 2,
       "version_minor": 0
      },
      "text/plain": [
       "Downloading:   0%|          | 0.00/480 [00:00<?, ?B/s]"
      ]
     },
     "metadata": {},
     "output_type": "display_data"
    },
    {
     "data": {
      "application/json": {
       "ascii": false,
       "bar_format": null,
       "colour": null,
       "elapsed": 0.0040018558502197266,
       "initial": 0,
       "n": 0,
       "ncols": null,
       "nrows": 84,
       "postfix": null,
       "prefix": "Downloading",
       "rate": null,
       "total": 14763234,
       "unit": "B",
       "unit_divisor": 1000,
       "unit_scale": true
      },
      "application/vnd.jupyter.widget-view+json": {
       "model_id": "ce7a9a0b209146a59887a7c5453ab82e",
       "version_major": 2,
       "version_minor": 0
      },
      "text/plain": [
       "Downloading:   0%|          | 0.00/14.8M [00:00<?, ?B/s]"
      ]
     },
     "metadata": {},
     "output_type": "display_data"
    }
   ],
   "source": [
    "from bertopic import BERTopic\n",
    "\n",
    "topic_model = BERTopic(language=\"multilingual\")\n",
    "\n",
    "topics, probs = topic_model.fit_transform([item for sublist in df.phrases.values for item in sublist])"
   ]
  },
  {
   "cell_type": "code",
   "execution_count": 4,
   "metadata": {},
   "outputs": [
    {
     "data": {
      "text/html": [
       "<div>\n",
       "<style scoped>\n",
       "    .dataframe tbody tr th:only-of-type {\n",
       "        vertical-align: middle;\n",
       "    }\n",
       "\n",
       "    .dataframe tbody tr th {\n",
       "        vertical-align: top;\n",
       "    }\n",
       "\n",
       "    .dataframe thead th {\n",
       "        text-align: right;\n",
       "    }\n",
       "</style>\n",
       "<table border=\"1\" class=\"dataframe\">\n",
       "  <thead>\n",
       "    <tr style=\"text-align: right;\">\n",
       "      <th></th>\n",
       "      <th>Topic</th>\n",
       "      <th>Count</th>\n",
       "      <th>Name</th>\n",
       "    </tr>\n",
       "  </thead>\n",
       "  <tbody>\n",
       "    <tr>\n",
       "      <th>0</th>\n",
       "      <td>-1</td>\n",
       "      <td>6691</td>\n",
       "      <td>-1_the_of_and_in</td>\n",
       "    </tr>\n",
       "    <tr>\n",
       "      <th>1</th>\n",
       "      <td>0</td>\n",
       "      <td>934</td>\n",
       "      <td>0_chem_phytochemistry_nat_silva</td>\n",
       "    </tr>\n",
       "    <tr>\n",
       "      <th>2</th>\n",
       "      <td>1</td>\n",
       "      <td>639</td>\n",
       "      <td>1_site_collection_type_bioactivity</td>\n",
       "    </tr>\n",
       "    <tr>\n",
       "      <th>3</th>\n",
       "      <td>2</td>\n",
       "      <td>630</td>\n",
       "      <td>2_hz_1h_mhz_3h</td>\n",
       "    </tr>\n",
       "    <tr>\n",
       "      <th>4</th>\n",
       "      <td>3</td>\n",
       "      <td>337</td>\n",
       "      <td>3_nm_cm_ir_uv</td>\n",
       "    </tr>\n",
       "    <tr>\n",
       "      <th>...</th>\n",
       "      <td>...</td>\n",
       "      <td>...</td>\n",
       "      <td>...</td>\n",
       "    </tr>\n",
       "    <tr>\n",
       "      <th>138</th>\n",
       "      <td>137</td>\n",
       "      <td>11</td>\n",
       "      <td>137_prenyl_prenylation_prenyltransferase_donor</td>\n",
       "    </tr>\n",
       "    <tr>\n",
       "      <th>139</th>\n",
       "      <td>138</td>\n",
       "      <td>11</td>\n",
       "      <td>138_people_million_disease_risk</td>\n",
       "    </tr>\n",
       "    <tr>\n",
       "      <th>140</th>\n",
       "      <td>139</td>\n",
       "      <td>11</td>\n",
       "      <td>139_microbial_lactones_2012_microbialtransform...</td>\n",
       "    </tr>\n",
       "    <tr>\n",
       "      <th>141</th>\n",
       "      <td>140</td>\n",
       "      <td>10</td>\n",
       "      <td>140_dmso_concentration_ml_plates</td>\n",
       "    </tr>\n",
       "    <tr>\n",
       "      <th>142</th>\n",
       "      <td>141</td>\n",
       "      <td>10</td>\n",
       "      <td>141_rubrenolide_lactone_djoukeng_4r</td>\n",
       "    </tr>\n",
       "  </tbody>\n",
       "</table>\n",
       "<p>143 rows × 3 columns</p>\n",
       "</div>"
      ],
      "text/plain": [
       "     Topic  Count                                               Name\n",
       "0       -1   6691                                   -1_the_of_and_in\n",
       "1        0    934                    0_chem_phytochemistry_nat_silva\n",
       "2        1    639                 1_site_collection_type_bioactivity\n",
       "3        2    630                                     2_hz_1h_mhz_3h\n",
       "4        3    337                                      3_nm_cm_ir_uv\n",
       "..     ...    ...                                                ...\n",
       "138    137     11     137_prenyl_prenylation_prenyltransferase_donor\n",
       "139    138     11                    138_people_million_disease_risk\n",
       "140    139     11  139_microbial_lactones_2012_microbialtransform...\n",
       "141    140     10                   140_dmso_concentration_ml_plates\n",
       "142    141     10                141_rubrenolide_lactone_djoukeng_4r\n",
       "\n",
       "[143 rows x 3 columns]"
      ]
     },
     "execution_count": 4,
     "metadata": {},
     "output_type": "execute_result"
    }
   ],
   "source": [
    "topic_model.get_topic_info()"
   ]
  },
  {
   "cell_type": "code",
   "execution_count": null,
   "metadata": {},
   "outputs": [],
   "source": [
    "topic_model.save(\"{}topic_model_final\".format(path))"
   ]
  },
  {
   "cell_type": "code",
   "execution_count": null,
   "metadata": {},
   "outputs": [],
   "source": []
  }
 ],
 "metadata": {
  "interpreter": {
   "hash": "fb93546e6995fdb0878df83f1978a6e198dddb57421150bbcbdd2209f86aef4c"
  },
  "kernelspec": {
   "display_name": "Python 3 (ipykernel)",
   "language": "python",
   "name": "python3"
  },
  "language_info": {
   "codemirror_mode": {
    "name": "ipython",
    "version": 3
   },
   "file_extension": ".py",
   "mimetype": "text/x-python",
   "name": "python",
   "nbconvert_exporter": "python",
   "pygments_lexer": "ipython3",
   "version": "3.8.16"
  }
 },
 "nbformat": 4,
 "nbformat_minor": 2
}
